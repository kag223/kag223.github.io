{
 "cells": [
  {
   "cell_type": "markdown",
   "id": "0fb730e6-fe48-4e65-8ba3-f2f8c27f262f",
   "metadata": {},
   "source": [
    "## Summary"
   ]
  },
  {
   "cell_type": "markdown",
   "id": "d461b714-9f5a-4852-af65-7c1f313c4960",
   "metadata": {},
   "source": [
    "The overall purpose of this project was to compare the sentiment value of a 10K to the returns of that companies stocks. Sentiment dictionaries are used to help analyze the files. "
   ]
  },
  {
   "cell_type": "markdown",
   "id": "8a6bff94-4b07-4f09-a6b3-28a0500b5214",
   "metadata": {},
   "source": [
    "## Data"
   ]
  },
  {
   "cell_type": "markdown",
   "id": "f3d8dd8b-96da-400c-8507-ffb3d19c6298",
   "metadata": {},
   "source": [
    "### Sample"
   ]
  },
  {
   "cell_type": "markdown",
   "id": "d5dec388-9f0d-4b19-a023-642215f7792a",
   "metadata": {},
   "source": [
    "The sample used in this project are the 10K files of the S&P 500 companies. The variables created include 10 contextual variables (5 topics and then a positive and negative variable for each of those) and then 2 versions of buy and hold. "
   ]
  },
  {
   "cell_type": "markdown",
   "id": "9ff67911-e3c7-4311-bbd3-e9e51d6dd0f7",
   "metadata": {},
   "source": [
    "### Return Variables"
   ]
  },
  {
   "cell_type": "markdown",
   "id": "fc19481a-bbf8-478c-a836-7240a13ccb56",
   "metadata": {},
   "source": [
    "The return variables are to be created using the date from using the business days to find the buy and hold return of the timespan using methods from Assignment 2. The return dates are to be from around the time the 10K was released as to be able to measure the impact it."
   ]
  },
  {
   "cell_type": "markdown",
   "id": "90421ce0-7bd8-4cc1-af09-168de83977c9",
   "metadata": {},
   "source": [
    "### Sentiment Variables"
   ]
  },
  {
   "cell_type": "markdown",
   "id": "c8118d98-3bb2-49a0-8fa2-3d21c02de08c",
   "metadata": {},
   "source": [
    "For my contextual variables I created strings of lists related to COVID-19, Ukraine, the encomomy, customers, and sales to find sentiment in the 10Ks based on those. I chose those contextual variables as they are events that have had universal impacts on companies in the past few years. COVID-19 impacted companies largely in the past few years as it resulted in a global lockdown and people had to work from home and businesses were hurt. I wanted to measure this variable as companies are starting to be less remote and more in person and wanted to see how that impacts the company. During 2022 Russia invaded Ukraine and that impacted Europe and the world and since it began in 2022 I wanted to see how that would impact the returns of companies. The economy is also a variable I wanted to measure due to the inflation rising we saw in 2022 and the Fed having raised the basis points. Finally, I chose to measure customers and sales because those are the overall driving points of a business and I was intereseted in seeing how that would impact the returns as well."
   ]
  },
  {
   "cell_type": "markdown",
   "id": "b71d1705-b46a-4a3d-96c8-572c0ca5cee2",
   "metadata": {},
   "source": []
  },
  {
   "cell_type": "markdown",
   "id": "901983b2-b357-4c39-91f6-df8301ff07b3",
   "metadata": {},
   "source": [
    "## Results"
   ]
  },
  {
   "cell_type": "markdown",
   "id": "6cd33c58-896b-4f58-8081-bff2454422e9",
   "metadata": {},
   "source": [
    "## Tables"
   ]
  },
  {
   "cell_type": "code",
   "execution_count": null,
   "id": "908d6b86-2999-40cc-8670-85cb27ff14f6",
   "metadata": {},
   "outputs": [],
   "source": []
  },
  {
   "cell_type": "markdown",
   "id": "bd119ecf-ac46-48c9-9020-29aa1809fbfd",
   "metadata": {},
   "source": [
    "## Discussion Questions"
   ]
  },
  {
   "cell_type": "markdown",
   "id": "2e1fca81-5e69-4712-9de6-be3a1300d10c",
   "metadata": {},
   "source": [
    "## 1"
   ]
  },
  {
   "cell_type": "markdown",
   "id": "3964e431-ecfd-4857-abe4-7d3b2a308166",
   "metadata": {},
   "source": []
  },
  {
   "cell_type": "markdown",
   "id": "5492c991-1ec1-45a3-a719-52da44e00a3e",
   "metadata": {},
   "source": [
    "## 2"
   ]
  },
  {
   "cell_type": "markdown",
   "id": "8e84f0cb-ab20-4d28-be71-892c070ab685",
   "metadata": {},
   "source": []
  },
  {
   "cell_type": "markdown",
   "id": "3161af64-177a-472c-a14a-9a5eeb0512b8",
   "metadata": {},
   "source": [
    "## 3"
   ]
  },
  {
   "cell_type": "markdown",
   "id": "b291fdbf-cc14-42f3-a34f-56460658b271",
   "metadata": {},
   "source": []
  },
  {
   "cell_type": "markdown",
   "id": "17d5a739-695f-4ac3-873c-7fec9b743e64",
   "metadata": {},
   "source": [
    "## 4"
   ]
  },
  {
   "cell_type": "markdown",
   "id": "53733ed5-e43d-4ff3-b778-2ed74b2b8fca",
   "metadata": {},
   "source": [
    "The difference between sign and magnitude has to do with direction. The sign has to do with it being a postive or negative impact. Magnitude has to do with the amount and how large of that postive or negative impact is."
   ]
  }
 ],
 "metadata": {
  "kernelspec": {
   "display_name": "Python 3 (ipykernel)",
   "language": "python",
   "name": "python3"
  },
  "language_info": {
   "codemirror_mode": {
    "name": "ipython",
    "version": 3
   },
   "file_extension": ".py",
   "mimetype": "text/x-python",
   "name": "python",
   "nbconvert_exporter": "python",
   "pygments_lexer": "ipython3",
   "version": "3.9.13"
  }
 },
 "nbformat": 4,
 "nbformat_minor": 5
}
